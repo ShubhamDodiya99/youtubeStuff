{
 "cells": [
  {
   "cell_type": "code",
   "execution_count": 1,
   "id": "46f0aba1",
   "metadata": {},
   "outputs": [],
   "source": [
    "# with statement--->automatically closes"
   ]
  },
  {
   "cell_type": "code",
   "execution_count": 12,
   "id": "7857d1f8",
   "metadata": {},
   "outputs": [
    {
     "name": "stdout",
     "output_type": "stream",
     "text": [
      "I am writing,not yet.\n"
     ]
    }
   ],
   "source": [
    "with open(\"another.txt\", \"r\") as f:    # dont need to write \"f.close()\"\n",
    "    a = f.read()\n",
    "print(a)"
   ]
  },
  {
   "cell_type": "code",
   "execution_count": 10,
   "id": "98d37202",
   "metadata": {},
   "outputs": [],
   "source": [
    "with open(\"another.txt\", \"w\") as f:\n",
    "    f.write(\"I am writing,not yet.\")"
   ]
  },
  {
   "cell_type": "code",
   "execution_count": null,
   "id": "2e8d082d",
   "metadata": {},
   "outputs": [],
   "source": []
  }
 ],
 "metadata": {
  "kernelspec": {
   "display_name": "Python 3 (ipykernel)",
   "language": "python",
   "name": "python3"
  },
  "language_info": {
   "codemirror_mode": {
    "name": "ipython",
    "version": 3
   },
   "file_extension": ".py",
   "mimetype": "text/x-python",
   "name": "python",
   "nbconvert_exporter": "python",
   "pygments_lexer": "ipython3",
   "version": "3.9.12"
  }
 },
 "nbformat": 4,
 "nbformat_minor": 5
}
