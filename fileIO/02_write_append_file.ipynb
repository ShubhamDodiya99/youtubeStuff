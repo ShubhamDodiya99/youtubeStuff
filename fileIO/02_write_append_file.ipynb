{
 "cells": [
  {
   "cell_type": "code",
   "execution_count": 2,
   "id": "8a03910d",
   "metadata": {},
   "outputs": [],
   "source": [
    "f = open(\"another.txt\", \"w\")\n",
    "f.write(\"please2 write this to file\")\n",
    "f.close()"
   ]
  },
  {
   "cell_type": "code",
   "execution_count": 6,
   "id": "c98a5655",
   "metadata": {},
   "outputs": [],
   "source": [
    "f = open(\"another.txt\", \"a\")\n",
    "f.write(\"I am appending this\")\n",
    "f.close()"
   ]
  },
  {
   "cell_type": "code",
   "execution_count": 7,
   "id": "1311985f",
   "metadata": {},
   "outputs": [],
   "source": [
    "f = open(\"another.txt\", \"w\")\n",
    "f.write(\"i am writing this\")\n",
    "f.close()"
   ]
  },
  {
   "cell_type": "code",
   "execution_count": 8,
   "id": "03b3ce64",
   "metadata": {},
   "outputs": [],
   "source": [
    "f = open(\"another.txt\", \"w\")\n",
    "f.write(\"i am writing this\")\n",
    "f.write(\"i am writing this\")\n",
    "f.write(\"i am writing this\")\n",
    "f.write(\"i am writing this\")\n",
    "f.close()"
   ]
  },
  {
   "cell_type": "code",
   "execution_count": null,
   "id": "397231cb",
   "metadata": {},
   "outputs": [],
   "source": []
  }
 ],
 "metadata": {
  "kernelspec": {
   "display_name": "Python 3 (ipykernel)",
   "language": "python",
   "name": "python3"
  },
  "language_info": {
   "codemirror_mode": {
    "name": "ipython",
    "version": 3
   },
   "file_extension": ".py",
   "mimetype": "text/x-python",
   "name": "python",
   "nbconvert_exporter": "python",
   "pygments_lexer": "ipython3",
   "version": "3.9.12"
  }
 },
 "nbformat": 4,
 "nbformat_minor": 5
}
