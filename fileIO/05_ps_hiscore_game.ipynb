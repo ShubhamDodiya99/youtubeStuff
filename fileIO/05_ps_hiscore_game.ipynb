{
 "cells": [
  {
   "cell_type": "code",
   "execution_count": 3,
   "id": "1c3f9435",
   "metadata": {},
   "outputs": [],
   "source": [
    "def game():\n",
    "    return 108\n",
    "score = game()\n",
    "\n",
    "with open(\"hiscore.txt\") as f:\n",
    "    hiscore = int(f.read())\n",
    "\n",
    "if hiscore<score:\n",
    "    with open(\"hiscore.txt\", \"w\") as f:\n",
    "        f.write(str(score))"
   ]
  },
  {
   "cell_type": "code",
   "execution_count": null,
   "id": "ef69e24f",
   "metadata": {},
   "outputs": [],
   "source": []
  }
 ],
 "metadata": {
  "kernelspec": {
   "display_name": "Python 3 (ipykernel)",
   "language": "python",
   "name": "python3"
  },
  "language_info": {
   "codemirror_mode": {
    "name": "ipython",
    "version": 3
   },
   "file_extension": ".py",
   "mimetype": "text/x-python",
   "name": "python",
   "nbconvert_exporter": "python",
   "pygments_lexer": "ipython3",
   "version": "3.9.12"
  }
 },
 "nbformat": 4,
 "nbformat_minor": 5
}
