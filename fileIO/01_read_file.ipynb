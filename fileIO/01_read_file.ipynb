{
 "cells": [
  {
   "cell_type": "code",
   "execution_count": 4,
   "id": "e9ef9015",
   "metadata": {},
   "outputs": [
    {
     "name": "stdout",
     "output_type": "stream",
     "text": [
      "sam is good\n",
      "and\n",
      "he is the best\n",
      "and \n",
      "he is clever\n"
     ]
    }
   ],
   "source": [
    "# open function\n",
    "\n",
    "# f = open(\"sample.txt\",\"r\")\n",
    "f = open(\"sample.txt\")     # byDefault mode is 'r'-->readOnly\n",
    "data = f.read()\n",
    "print(data)\n",
    "f.close()"
   ]
  },
  {
   "cell_type": "code",
   "execution_count": 7,
   "id": "778f3b20",
   "metadata": {},
   "outputs": [
    {
     "name": "stdout",
     "output_type": "stream",
     "text": [
      "sam is good\n",
      "and\n",
      "he i\n"
     ]
    }
   ],
   "source": [
    "f = open(\"sample.txt\")\n",
    "data = f.read(20)     #  to read number of characters\n",
    "print(data)\n",
    "f.close()"
   ]
  },
  {
   "cell_type": "code",
   "execution_count": 11,
   "id": "de2e21e1",
   "metadata": {},
   "outputs": [
    {
     "name": "stdout",
     "output_type": "stream",
     "text": [
      "sam is good\n",
      "\n"
     ]
    }
   ],
   "source": [
    "f = open(\"sample.txt\")\n",
    "data = f.readline()      # read one line from the list\n",
    "print(data)\n",
    "f.close()"
   ]
  },
  {
   "cell_type": "code",
   "execution_count": 12,
   "id": "d56affd1",
   "metadata": {},
   "outputs": [
    {
     "name": "stdout",
     "output_type": "stream",
     "text": [
      "sam is good\n",
      "\n",
      "and\n",
      "\n",
      "he is the best\n",
      "\n"
     ]
    }
   ],
   "source": [
    "f = open(\"sample.txt\")\n",
    "data = f.readline()\n",
    "print(data)\n",
    "data = f.readline()\n",
    "print(data)\n",
    "data = f.readline()\n",
    "print(data)\n",
    "f.close()"
   ]
  },
  {
   "cell_type": "code",
   "execution_count": null,
   "id": "5fc8e54c",
   "metadata": {},
   "outputs": [],
   "source": []
  }
 ],
 "metadata": {
  "kernelspec": {
   "display_name": "Python 3 (ipykernel)",
   "language": "python",
   "name": "python3"
  },
  "language_info": {
   "codemirror_mode": {
    "name": "ipython",
    "version": 3
   },
   "file_extension": ".py",
   "mimetype": "text/x-python",
   "name": "python",
   "nbconvert_exporter": "python",
   "pygments_lexer": "ipython3",
   "version": "3.9.12"
  }
 },
 "nbformat": 4,
 "nbformat_minor": 5
}
