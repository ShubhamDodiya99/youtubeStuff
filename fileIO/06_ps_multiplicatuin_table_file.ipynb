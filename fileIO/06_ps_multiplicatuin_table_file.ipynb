{
 "cells": [
  {
   "cell_type": "code",
   "execution_count": 1,
   "id": "c6fb5a69",
   "metadata": {},
   "outputs": [],
   "source": [
    "for i in range(2, 21):\n",
    "    with open(f\"tables/multiplication_table_of_{i}.txt\", \"w\") as f:\n",
    "        for j in range(1, 11):\n",
    "            f.write(f\"{i} X {j} = {i*j}\")\n",
    "            if j!=10:\n",
    "                f.write(\"\\n\")"
   ]
  },
  {
   "cell_type": "code",
   "execution_count": null,
   "id": "28ff82cd",
   "metadata": {},
   "outputs": [],
   "source": []
  }
 ],
 "metadata": {
  "kernelspec": {
   "display_name": "Python 3 (ipykernel)",
   "language": "python",
   "name": "python3"
  },
  "language_info": {
   "codemirror_mode": {
    "name": "ipython",
    "version": 3
   },
   "file_extension": ".py",
   "mimetype": "text/x-python",
   "name": "python",
   "nbconvert_exporter": "python",
   "pygments_lexer": "ipython3",
   "version": "3.9.12"
  }
 },
 "nbformat": 4,
 "nbformat_minor": 5
}
