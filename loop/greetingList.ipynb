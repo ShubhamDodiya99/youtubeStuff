{
 "cells": [
  {
   "cell_type": "code",
   "execution_count": 1,
   "id": "f3a7ae89",
   "metadata": {},
   "outputs": [
    {
     "name": "stdout",
     "output_type": "stream",
     "text": [
      "Greeting, rohan\n",
      "Greeting, sachin\n",
      "Greeting, soham\n",
      "Greeting, harry\n"
     ]
    }
   ],
   "source": [
    "l1 = [\"rohan\", \"sachin\", \"soham\", \"harry\"]\n",
    "for i in l1:\n",
    "    print(\"Greeting, \"+i)"
   ]
  },
  {
   "cell_type": "code",
   "execution_count": 9,
   "id": "4f032524",
   "metadata": {},
   "outputs": [
    {
     "name": "stdout",
     "output_type": "stream",
     "text": [
      "Greeting, rohan\n",
      "Greeting, sachin\n",
      "Greeting, soham\n",
      "Greeting, harry\n"
     ]
    }
   ],
   "source": [
    "l1 = [\"rohan\", \"sachin\", \"soham\", \"harry\"]\n",
    "i = 0\n",
    "while i<4:\n",
    "    print((\"Greeting, \"+l1[i]))\n",
    "    i = i + 1"
   ]
  },
  {
   "cell_type": "code",
   "execution_count": 14,
   "id": "98d7bc43",
   "metadata": {},
   "outputs": [
    {
     "name": "stdout",
     "output_type": "stream",
     "text": [
      "Greeting, sachin\n",
      "Greeting, soham\n",
      "Greeting, Sahara\n"
     ]
    }
   ],
   "source": [
    "l1 = [\"rohan\", \"sachin\", \"soham\", \"Sahara\", \"harry\"]\n",
    "for i in l1:\n",
    "    if i.lower().startswith(\"s\"):\n",
    "        print(\"Greeting, \"+i)"
   ]
  },
  {
   "cell_type": "code",
   "execution_count": null,
   "id": "bd084c1e",
   "metadata": {},
   "outputs": [],
   "source": []
  }
 ],
 "metadata": {
  "kernelspec": {
   "display_name": "Python 3 (ipykernel)",
   "language": "python",
   "name": "python3"
  },
  "language_info": {
   "codemirror_mode": {
    "name": "ipython",
    "version": 3
   },
   "file_extension": ".py",
   "mimetype": "text/x-python",
   "name": "python",
   "nbconvert_exporter": "python",
   "pygments_lexer": "ipython3",
   "version": "3.9.12"
  }
 },
 "nbformat": 4,
 "nbformat_minor": 5
}
