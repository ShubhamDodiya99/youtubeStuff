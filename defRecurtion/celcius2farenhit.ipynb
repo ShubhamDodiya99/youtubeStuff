{
 "cells": [
  {
   "cell_type": "code",
   "execution_count": 1,
   "id": "fb6572a4",
   "metadata": {},
   "outputs": [],
   "source": [
    "# (°C × 9/5) + 32 = °F"
   ]
  },
  {
   "cell_type": "code",
   "execution_count": 21,
   "id": "6cc1b27a",
   "metadata": {},
   "outputs": [
    {
     "name": "stdout",
     "output_type": "stream",
     "text": [
      "temparature is 32.0°F\n"
     ]
    }
   ],
   "source": [
    "def celcius(temp):\n",
    "    return(temp*(9/5) + 32)\n",
    "\n",
    "t = celcius(0)\n",
    "print(f\"temparature is {t}°F\")\n",
    "#print(t,\"°F\")\n",
    "#print(\"temprature is \" + str(t) + \"°F\")"
   ]
  },
  {
   "cell_type": "code",
   "execution_count": null,
   "id": "e4f1110f",
   "metadata": {},
   "outputs": [],
   "source": []
  }
 ],
 "metadata": {
  "kernelspec": {
   "display_name": "Python 3 (ipykernel)",
   "language": "python",
   "name": "python3"
  },
  "language_info": {
   "codemirror_mode": {
    "name": "ipython",
    "version": 3
   },
   "file_extension": ".py",
   "mimetype": "text/x-python",
   "name": "python",
   "nbconvert_exporter": "python",
   "pygments_lexer": "ipython3",
   "version": "3.9.12"
  }
 },
 "nbformat": 4,
 "nbformat_minor": 5
}
