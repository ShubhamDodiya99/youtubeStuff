{
 "cells": [
  {
   "cell_type": "code",
   "execution_count": 1,
   "id": "b9cb5ba1",
   "metadata": {},
   "outputs": [],
   "source": [
    "#n(n+1)/2"
   ]
  },
  {
   "cell_type": "code",
   "execution_count": 5,
   "id": "c558544d",
   "metadata": {},
   "outputs": [],
   "source": [
    "# sum(n-1)+n"
   ]
  },
  {
   "cell_type": "code",
   "execution_count": 11,
   "id": "2911a937",
   "metadata": {},
   "outputs": [
    {
     "name": "stdout",
     "output_type": "stream",
     "text": [
      "55\n"
     ]
    }
   ],
   "source": [
    "def sum(num):\n",
    "    if(num<=1):\n",
    "        return 1\n",
    "    else:\n",
    "        return(num + sum(num - 1))\n",
    "s = sum(10)\n",
    "print(s)"
   ]
  },
  {
   "cell_type": "code",
   "execution_count": 26,
   "id": "dc6b575e",
   "metadata": {},
   "outputs": [
    {
     "name": "stdout",
     "output_type": "stream",
     "text": [
      "55.0\n"
     ]
    }
   ],
   "source": [
    "def sum(n):\n",
    "    if(n<=0):\n",
    "        print(\"please,enter natural number\")\n",
    "    else:\n",
    "        return((n*(n+1))/2)\n",
    "s =sum(10)\n",
    "print(s)"
   ]
  },
  {
   "cell_type": "code",
   "execution_count": null,
   "id": "bd2e334e",
   "metadata": {},
   "outputs": [],
   "source": []
  }
 ],
 "metadata": {
  "kernelspec": {
   "display_name": "Python 3 (ipykernel)",
   "language": "python",
   "name": "python3"
  },
  "language_info": {
   "codemirror_mode": {
    "name": "ipython",
    "version": 3
   },
   "file_extension": ".py",
   "mimetype": "text/x-python",
   "name": "python",
   "nbconvert_exporter": "python",
   "pygments_lexer": "ipython3",
   "version": "3.9.12"
  }
 },
 "nbformat": 4,
 "nbformat_minor": 5
}
