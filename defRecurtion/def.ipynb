{
 "cells": [
  {
   "cell_type": "code",
   "execution_count": 7,
   "id": "bba38f2f",
   "metadata": {},
   "outputs": [
    {
     "name": "stdout",
     "output_type": "stream",
     "text": [
      "69.75 56.5\n"
     ]
    }
   ],
   "source": [
    "def percent(marks):\n",
    "    p = sum(marks)/4\n",
    "    return p\n",
    "\n",
    "marks1 = [79,84,66,50]\n",
    "percentage1 = percent(marks1)\n",
    "\n",
    "marks2 = [45,76,35,70]\n",
    "percentage2 = percent(marks2)\n",
    "\n",
    "print(percentage1, percentage2)"
   ]
  },
  {
   "cell_type": "code",
   "execution_count": 10,
   "id": "c1540ac8",
   "metadata": {},
   "outputs": [
    {
     "name": "stdout",
     "output_type": "stream",
     "text": [
      "good day, sahara\n"
     ]
    }
   ],
   "source": [
    "def greet(name):\n",
    "    print(\"good day, \"+name)\n",
    "    \n",
    "greet(\"sahara\")"
   ]
  },
  {
   "cell_type": "code",
   "execution_count": 11,
   "id": "7f809b5a",
   "metadata": {},
   "outputs": [
    {
     "name": "stdout",
     "output_type": "stream",
     "text": [
      "good day, manoj\n"
     ]
    }
   ],
   "source": [
    "greet(\"manoj\")"
   ]
  },
  {
   "cell_type": "code",
   "execution_count": 1,
   "id": "5c916281",
   "metadata": {},
   "outputs": [
    {
     "name": "stdout",
     "output_type": "stream",
     "text": [
      "good day, stranger\n"
     ]
    }
   ],
   "source": [
    "def greet(name=\"stranger\"):        # default parameter value\n",
    "    print(\"good day, \"+name)\n",
    "    \n",
    "greet()"
   ]
  },
  {
   "cell_type": "code",
   "execution_count": 2,
   "id": "6816cfad",
   "metadata": {},
   "outputs": [
    {
     "name": "stdout",
     "output_type": "stream",
     "text": [
      "good day, sam\n"
     ]
    }
   ],
   "source": [
    "greet(\"sam\")"
   ]
  },
  {
   "cell_type": "code",
   "execution_count": null,
   "id": "b917ff75",
   "metadata": {},
   "outputs": [],
   "source": []
  }
 ],
 "metadata": {
  "kernelspec": {
   "display_name": "Python 3 (ipykernel)",
   "language": "python",
   "name": "python3"
  },
  "language_info": {
   "codemirror_mode": {
    "name": "ipython",
    "version": 3
   },
   "file_extension": ".py",
   "mimetype": "text/x-python",
   "name": "python",
   "nbconvert_exporter": "python",
   "pygments_lexer": "ipython3",
   "version": "3.9.12"
  }
 },
 "nbformat": 4,
 "nbformat_minor": 5
}
