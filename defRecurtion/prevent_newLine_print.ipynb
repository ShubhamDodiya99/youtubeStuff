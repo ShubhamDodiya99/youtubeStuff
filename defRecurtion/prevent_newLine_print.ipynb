{
 "cells": [
  {
   "cell_type": "code",
   "execution_count": 1,
   "id": "84b8ae7b",
   "metadata": {},
   "outputs": [
    {
     "name": "stdout",
     "output_type": "stream",
     "text": [
      "hello,\n",
      "how\n",
      "are\n",
      "you ?\n"
     ]
    }
   ],
   "source": [
    "print(\"hello,\")\n",
    "print(\"how\")\n",
    "print(\"are\")\n",
    "print(\"you ?\")"
   ]
  },
  {
   "cell_type": "code",
   "execution_count": 3,
   "id": "b9c90d0f",
   "metadata": {},
   "outputs": [
    {
     "name": "stdout",
     "output_type": "stream",
     "text": [
      "hello,howareyou ?"
     ]
    }
   ],
   "source": [
    "print(\"hello,\",end=\"\")    # \\n is a default for end=\"\"\n",
    "print(\"how\",end=\"\")\n",
    "print(\"are\",end=\"\")\n",
    "print(\"you ?\",end=\"\")"
   ]
  },
  {
   "cell_type": "code",
   "execution_count": 4,
   "id": "6e843e13",
   "metadata": {},
   "outputs": [
    {
     "name": "stdout",
     "output_type": "stream",
     "text": [
      "hello, how are you ? "
     ]
    }
   ],
   "source": [
    "print(\"hello,\",end=\" \")\n",
    "print(\"how\",end=\" \")\n",
    "print(\"are\",end=\" \")\n",
    "print(\"you ?\",end=\" \")"
   ]
  },
  {
   "cell_type": "code",
   "execution_count": null,
   "id": "b316f487",
   "metadata": {},
   "outputs": [],
   "source": []
  }
 ],
 "metadata": {
  "kernelspec": {
   "display_name": "Python 3 (ipykernel)",
   "language": "python",
   "name": "python3"
  },
  "language_info": {
   "codemirror_mode": {
    "name": "ipython",
    "version": 3
   },
   "file_extension": ".py",
   "mimetype": "text/x-python",
   "name": "python",
   "nbconvert_exporter": "python",
   "pygments_lexer": "ipython3",
   "version": "3.9.12"
  }
 },
 "nbformat": 4,
 "nbformat_minor": 5
}
