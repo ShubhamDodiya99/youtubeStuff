{
 "cells": [
  {
   "cell_type": "code",
   "execution_count": 3,
   "id": "5421a601",
   "metadata": {},
   "outputs": [
    {
     "name": "stdout",
     "output_type": "stream",
     "text": [
      "enter student's marks:45\n",
      "enter student's marks:27\n",
      "enter student's marks:67\n",
      "enter student's marks:92\n",
      "enter student's marks:19\n",
      "enter student's marks:77\n",
      "students marks in accending order: ['19', '27', '45', '67', '77', '92']\n"
     ]
    }
   ],
   "source": [
    "a = input(\"enter student's marks:\")\n",
    "b = input(\"enter student's marks:\")\n",
    "c = input(\"enter student's marks:\")\n",
    "d = input(\"enter student's marks:\")\n",
    "e = input(\"enter student's marks:\")\n",
    "f = input(\"enter student's marks:\")\n",
    "z = [a, b, c, d, e, f]\n",
    "z.sort()\n",
    "z\n",
    "print(\"students marks in accending order:\", z)"
   ]
  },
  {
   "cell_type": "code",
   "execution_count": 4,
   "id": "db0f05d8",
   "metadata": {},
   "outputs": [],
   "source": [
    "# markes should be in int form"
   ]
  },
  {
   "cell_type": "code",
   "execution_count": 5,
   "id": "74dba935",
   "metadata": {},
   "outputs": [
    {
     "name": "stdout",
     "output_type": "stream",
     "text": [
      "enter student's marks:39\n",
      "enter student's marks:78\n",
      "enter student's marks:84\n",
      "enter student's marks:23\n",
      "enter student's marks:45\n",
      "enter student's marks:68\n",
      "students marks in accending order: [23, 39, 45, 68, 78, 84]\n"
     ]
    }
   ],
   "source": [
    "a = int(input(\"enter student's marks:\"))\n",
    "b = int(input(\"enter student's marks:\"))\n",
    "c = int(input(\"enter student's marks:\"))\n",
    "d = int(input(\"enter student's marks:\"))\n",
    "e = int(input(\"enter student's marks:\"))\n",
    "f = int(input(\"enter student's marks:\"))\n",
    "z = [a, b, c, d, e, f]\n",
    "z.sort()\n",
    "z\n",
    "print(\"students marks in accending order:\", z)"
   ]
  },
  {
   "cell_type": "code",
   "execution_count": null,
   "id": "57b8a62c",
   "metadata": {},
   "outputs": [],
   "source": []
  }
 ],
 "metadata": {
  "kernelspec": {
   "display_name": "Python 3 (ipykernel)",
   "language": "python",
   "name": "python3"
  },
  "language_info": {
   "codemirror_mode": {
    "name": "ipython",
    "version": 3
   },
   "file_extension": ".py",
   "mimetype": "text/x-python",
   "name": "python",
   "nbconvert_exporter": "python",
   "pygments_lexer": "ipython3",
   "version": "3.9.12"
  }
 },
 "nbformat": 4,
 "nbformat_minor": 5
}
