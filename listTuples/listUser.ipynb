{
 "cells": [
  {
   "cell_type": "code",
   "execution_count": 1,
   "id": "b7b02152",
   "metadata": {},
   "outputs": [
    {
     "name": "stdout",
     "output_type": "stream",
     "text": [
      "enter first fruit:apple\n",
      "enter second fruit:mango\n",
      "enter third fruit:banaba\n",
      "enter fouth fruit:papaya\n",
      "enter fifth fruit:melon\n",
      "enter sixth fruit:grapes\n",
      "enter seventh fruit:orange\n",
      "list of fruits is: ['apple', 'mango', 'banaba', 'papaya', 'melon', 'grapes', 'orange']\n"
     ]
    }
   ],
   "source": [
    "a = input(\"enter first fruit:\")\n",
    "b = input(\"enter second fruit:\")\n",
    "c = input(\"enter third fruit:\")\n",
    "d = input(\"enter fouth fruit:\")\n",
    "e = input(\"enter fifth fruit:\")\n",
    "f = input(\"enter sixth fruit:\")\n",
    "g = input(\"enter seventh fruit:\")\n",
    "z = [a,b,c,d,e,f,g]\n",
    "print(\"list of fruits is:\", z)"
   ]
  },
  {
   "cell_type": "code",
   "execution_count": null,
   "id": "0943e1c9",
   "metadata": {},
   "outputs": [],
   "source": []
  }
 ],
 "metadata": {
  "kernelspec": {
   "display_name": "Python 3 (ipykernel)",
   "language": "python",
   "name": "python3"
  },
  "language_info": {
   "codemirror_mode": {
    "name": "ipython",
    "version": 3
   },
   "file_extension": ".py",
   "mimetype": "text/x-python",
   "name": "python",
   "nbconvert_exporter": "python",
   "pygments_lexer": "ipython3",
   "version": "3.9.12"
  }
 },
 "nbformat": 4,
 "nbformat_minor": 5
}
