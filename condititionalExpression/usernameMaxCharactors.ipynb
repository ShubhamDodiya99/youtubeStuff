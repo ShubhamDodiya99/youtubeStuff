{
 "cells": [
  {
   "cell_type": "code",
   "execution_count": 4,
   "id": "d60773a9",
   "metadata": {},
   "outputs": [
    {
     "name": "stdout",
     "output_type": "stream",
     "text": [
      "Username should not contain more than 10 characters\n",
      "enter your username: shubham99\n",
      "\n",
      "    Congratulationa!\n",
      "    Your username is accepted\n",
      "    \n"
     ]
    }
   ],
   "source": [
    "print(\"Username should not contain more than 10 characters\")\n",
    "\n",
    "name = input(\"enter your username: \")\n",
    "\n",
    "if(len(name)>10):\n",
    "    print('''\n",
    "    Invalid username!\n",
    "    Your username has more than 10 characters\n",
    "    ''')\n",
    "else:\n",
    "    print('''\n",
    "    Congratulationa!\n",
    "    Your username is accepted\n",
    "    ''')"
   ]
  },
  {
   "cell_type": "code",
   "execution_count": null,
   "id": "c972538d",
   "metadata": {},
   "outputs": [],
   "source": []
  }
 ],
 "metadata": {
  "kernelspec": {
   "display_name": "Python 3 (ipykernel)",
   "language": "python",
   "name": "python3"
  },
  "language_info": {
   "codemirror_mode": {
    "name": "ipython",
    "version": 3
   },
   "file_extension": ".py",
   "mimetype": "text/x-python",
   "name": "python",
   "nbconvert_exporter": "python",
   "pygments_lexer": "ipython3",
   "version": "3.9.12"
  }
 },
 "nbformat": 4,
 "nbformat_minor": 5
}
