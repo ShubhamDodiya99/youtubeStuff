{
 "cells": [
  {
   "cell_type": "code",
   "execution_count": 2,
   "id": "5fe6aa93",
   "metadata": {},
   "outputs": [
    {
     "name": "stdout",
     "output_type": "stream",
     "text": [
      "Enter the name to check: martha\n",
      "\n",
      "    No,\n",
      "    your name is not present in the list\n",
      "    \n"
     ]
    }
   ],
   "source": [
    "names = [\"shubham\", \"sam\", \"jack\", \"oggy\", \"sahara\", \"john\"]\n",
    "name = input(\"Enter the name to check: \")\n",
    "\n",
    "if name in names:\n",
    "    print('''\n",
    "    Yes,\n",
    "    your name is present in the list\n",
    "    ''')\n",
    "else:\n",
    "    print('''\n",
    "    No,\n",
    "    your name is not present in the list\n",
    "    ''')"
   ]
  },
  {
   "cell_type": "code",
   "execution_count": null,
   "id": "a472b777",
   "metadata": {},
   "outputs": [],
   "source": []
  }
 ],
 "metadata": {
  "kernelspec": {
   "display_name": "Python 3 (ipykernel)",
   "language": "python",
   "name": "python3"
  },
  "language_info": {
   "codemirror_mode": {
    "name": "ipython",
    "version": 3
   },
   "file_extension": ".py",
   "mimetype": "text/x-python",
   "name": "python",
   "nbconvert_exporter": "python",
   "pygments_lexer": "ipython3",
   "version": "3.9.12"
  }
 },
 "nbformat": 4,
 "nbformat_minor": 5
}
