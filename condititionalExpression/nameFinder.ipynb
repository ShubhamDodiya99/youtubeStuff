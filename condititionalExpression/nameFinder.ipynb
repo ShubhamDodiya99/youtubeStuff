{
 "cells": [
  {
   "cell_type": "code",
   "execution_count": 9,
   "id": "9211f358",
   "metadata": {},
   "outputs": [
    {
     "name": "stdout",
     "output_type": "stream",
     "text": [
      "enter the text: kingsarasam\n",
      "Yes, This text contains name- sara\n"
     ]
    }
   ],
   "source": [
    "text = input(\"enter the text: \")\n",
    "\n",
    "if(\"sara\" in text.lower()):\n",
    "    post = True\n",
    "else:\n",
    "    post = False\n",
    "    \n",
    "if(post):\n",
    "    print('Yes, This text contains name- sara')\n",
    "else:\n",
    "    print('No, This text does not contain name- sara')"
   ]
  },
  {
   "cell_type": "code",
   "execution_count": null,
   "id": "2638ef55",
   "metadata": {},
   "outputs": [],
   "source": []
  }
 ],
 "metadata": {
  "kernelspec": {
   "display_name": "Python 3 (ipykernel)",
   "language": "python",
   "name": "python3"
  },
  "language_info": {
   "codemirror_mode": {
    "name": "ipython",
    "version": 3
   },
   "file_extension": ".py",
   "mimetype": "text/x-python",
   "name": "python",
   "nbconvert_exporter": "python",
   "pygments_lexer": "ipython3",
   "version": "3.9.13"
  }
 },
 "nbformat": 4,
 "nbformat_minor": 5
}
