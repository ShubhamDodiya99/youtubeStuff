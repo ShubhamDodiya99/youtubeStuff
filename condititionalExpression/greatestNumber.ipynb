{
 "cells": [
  {
   "cell_type": "code",
   "execution_count": 3,
   "id": "fb22685d",
   "metadata": {},
   "outputs": [
    {
     "name": "stdout",
     "output_type": "stream",
     "text": [
      "enter number 1: 45\n",
      "enter number 2: 69\n",
      "enter number 3: 88\n",
      "enter number 4: 50\n",
      "88 is greatest number\n"
     ]
    }
   ],
   "source": [
    "num1 = int(input(\"enter number 1: \"))\n",
    "num2 = int(input(\"enter number 2: \"))\n",
    "num3 = int(input(\"enter number 3: \"))\n",
    "num4 = int(input(\"enter number 4: \"))\n",
    "\n",
    "if(num1>num2):\n",
    "    f1 = num1\n",
    "else:\n",
    "    f1 = num2\n",
    "\n",
    "if(num3>num4):\n",
    "    f2 = num3\n",
    "else:\n",
    "    f2 = num4\n",
    "    \n",
    "if(f1>f2):\n",
    "    print(str(f1) + \" is greatest number\")\n",
    "else:\n",
    "    print(str(f2) + \" is greatest number\")"
   ]
  },
  {
   "cell_type": "code",
   "execution_count": null,
   "id": "ae55601a",
   "metadata": {},
   "outputs": [],
   "source": []
  }
 ],
 "metadata": {
  "kernelspec": {
   "display_name": "Python 3 (ipykernel)",
   "language": "python",
   "name": "python3"
  },
  "language_info": {
   "codemirror_mode": {
    "name": "ipython",
    "version": 3
   },
   "file_extension": ".py",
   "mimetype": "text/x-python",
   "name": "python",
   "nbconvert_exporter": "python",
   "pygments_lexer": "ipython3",
   "version": "3.9.12"
  }
 },
 "nbformat": 4,
 "nbformat_minor": 5
}
