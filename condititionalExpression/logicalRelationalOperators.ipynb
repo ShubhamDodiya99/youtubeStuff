{
 "cells": [
  {
   "cell_type": "code",
   "execution_count": 1,
   "id": "04ab1e25",
   "metadata": {},
   "outputs": [
    {
     "name": "stdout",
     "output_type": "stream",
     "text": [
      "enter your age: 45\n",
      "you can not work with us\n"
     ]
    }
   ],
   "source": [
    "age = int(input(\"enter your age: \"))\n",
    "if(age>18 and age<30):                     # and-->only true if both condition satisfy\n",
    "    print(\"you can work with us\")\n",
    "else:\n",
    "    print(\"you can not work with us\")"
   ]
  },
  {
   "cell_type": "code",
   "execution_count": 3,
   "id": "f0979750",
   "metadata": {},
   "outputs": [
    {
     "name": "stdout",
     "output_type": "stream",
     "text": [
      "enter your age: 45\n",
      "you can work with us\n"
     ]
    }
   ],
   "source": [
    "age = int(input(\"enter your age: \"))\n",
    "if(age>18 or age<30):                      # or-->true if any one condition satisfy\n",
    "    print(\"you can work with us\")\n",
    "else:\n",
    "    print(\"you can not work with us\")"
   ]
  },
  {
   "cell_type": "code",
   "execution_count": null,
   "id": "a4fed5d8",
   "metadata": {},
   "outputs": [],
   "source": []
  }
 ],
 "metadata": {
  "kernelspec": {
   "display_name": "Python 3 (ipykernel)",
   "language": "python",
   "name": "python3"
  },
  "language_info": {
   "codemirror_mode": {
    "name": "ipython",
    "version": 3
   },
   "file_extension": ".py",
   "mimetype": "text/x-python",
   "name": "python",
   "nbconvert_exporter": "python",
   "pygments_lexer": "ipython3",
   "version": "3.9.12"
  }
 },
 "nbformat": 4,
 "nbformat_minor": 5
}
