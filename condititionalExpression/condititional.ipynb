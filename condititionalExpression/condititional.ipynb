{
 "cells": [
  {
   "cell_type": "code",
   "execution_count": 1,
   "id": "27eec404",
   "metadata": {},
   "outputs": [
    {
     "name": "stdout",
     "output_type": "stream",
     "text": [
      "the value of a is greater than 10\n"
     ]
    }
   ],
   "source": [
    "a = 45\n",
    "if(a>10):\n",
    "    print(\"the value of a is greater than 10\")\n",
    "elif(a>20):\n",
    "    print(\"the value of a is greater than 20\")\n",
    "else:\n",
    "    print(\"the value is not greater than 10 or 20\")"
   ]
  },
  {
   "cell_type": "code",
   "execution_count": 7,
   "id": "829ad5e7",
   "metadata": {},
   "outputs": [
    {
     "name": "stdout",
     "output_type": "stream",
     "text": [
      "enter your value: 15\n",
      "the value of a is 5 to 20\n"
     ]
    }
   ],
   "source": [
    "a = int(input(\"enter your value: \"))\n",
    "if(20>a>5):\n",
    "    print(\"the value of a is 5 to 20\")\n",
    "elif(50>a>20):\n",
    "    print(\"the value of a is 20 to 50\")\n",
    "else:\n",
    "    print(\"the value of a is greater than 50\")"
   ]
  },
  {
   "cell_type": "code",
   "execution_count": 5,
   "id": "ea00f970",
   "metadata": {},
   "outputs": [
    {
     "name": "stdout",
     "output_type": "stream",
     "text": [
      "enter your value: 45\n",
      "the value of a is lesser than 50\n",
      "Done\n"
     ]
    }
   ],
   "source": [
    "a = int(input(\"enter your value: \"))\n",
    "if(a<10):\n",
    "    print(\"the value of a is lesser than 10\")\n",
    "elif(a<20):\n",
    "    print(\"the value of a is lesser than 20\")\n",
    "elif(a<30):\n",
    "    print(\"the value of a is lesser than 30\")\n",
    "elif(a<40):\n",
    "    print(\"the value of a is lesser than 40\")\n",
    "elif(a<50):\n",
    "    print(\"the value of a is lesser than 50\")\n",
    "else:\n",
    "    print(\"the value of is greater than 50\")\n",
    "\n",
    "print(\"Done\")"
   ]
  },
  {
   "cell_type": "code",
   "execution_count": 9,
   "id": "f3df2b42",
   "metadata": {},
   "outputs": [
    {
     "name": "stdout",
     "output_type": "stream",
     "text": [
      "enter your value: 39\n",
      "the value of a is greater than 10\n",
      "the value of a is greater than 20\n",
      "the value of a is greater than 30\n",
      "the value of a is beetween 30 to 40\n"
     ]
    }
   ],
   "source": [
    "a = int(input(\"enter your value: \"))\n",
    "if(a>10):\n",
    "    print(\"the value of a is greater than 10\")\n",
    "\n",
    "if(a>20):\n",
    "    print(\"the value of a is greater than 20\")\n",
    "\n",
    "if(a>30):\n",
    "    print(\"the value of a is greater than 30\")\n",
    "\n",
    "if(30<a<40):\n",
    "    print(\"the value of a is beetween 30 to 40\")\n",
    "elif(a>40):\n",
    "    print(\"the value of a is greater than 40\")\n",
    "else:\n",
    "    print(\"the value of a is not greater than 10\")"
   ]
  },
  {
   "cell_type": "code",
   "execution_count": 14,
   "id": "1023748a",
   "metadata": {},
   "outputs": [
    {
     "name": "stdout",
     "output_type": "stream",
     "text": [
      "enter your value: 45\n",
      "the value of a is lesser than 50\n"
     ]
    }
   ],
   "source": [
    "a = int(input(\"enter your value: \"))\n",
    "if(a>50):\n",
    "    print(\"the value of a is greater than 50\")\n",
    "elif(a<50):\n",
    "    print(\"the value of a is lesser than 50\")\n",
    "else:\n",
    "    print(\"the value of a is equal to 50\")"
   ]
  },
  {
   "cell_type": "code",
   "execution_count": null,
   "id": "cefd6aa2",
   "metadata": {},
   "outputs": [],
   "source": []
  }
 ],
 "metadata": {
  "kernelspec": {
   "display_name": "Python 3 (ipykernel)",
   "language": "python",
   "name": "python3"
  },
  "language_info": {
   "codemirror_mode": {
    "name": "ipython",
    "version": 3
   },
   "file_extension": ".py",
   "mimetype": "text/x-python",
   "name": "python",
   "nbconvert_exporter": "python",
   "pygments_lexer": "ipython3",
   "version": "3.9.12"
  }
 },
 "nbformat": 4,
 "nbformat_minor": 5
}
