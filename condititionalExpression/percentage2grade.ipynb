{
 "cells": [
  {
   "cell_type": "code",
   "execution_count": 23,
   "id": "73e8623b",
   "metadata": {},
   "outputs": [
    {
     "name": "stdout",
     "output_type": "stream",
     "text": [
      "Percantage to Grade conversion:-\n",
      "Enter your marks out of 100: 35\n",
      "DD\n"
     ]
    }
   ],
   "source": [
    "print(\"Percantage to Grade conversion:-\")\n",
    "\n",
    "marks = int(input(\"Enter your marks out of 100: \"))\n",
    "\n",
    "if(marks>=90):\n",
    "    print(\"AA\")\n",
    "elif(marks>=80):\n",
    "    print(\"AB\")\n",
    "elif(marks>=70):\n",
    "    print(\"BB\")\n",
    "elif(marks>=60):\n",
    "    print(\"BC\")\n",
    "elif(marks>=50):\n",
    "    print(\"CC\")\n",
    "elif(marks>=40):\n",
    "    print(\"CD\")\n",
    "elif(marks>=30):\n",
    "    print(\"DD\")\n",
    "else:\n",
    "    print(\"FF\")"
   ]
  },
  {
   "cell_type": "code",
   "execution_count": null,
   "id": "2acfd482",
   "metadata": {},
   "outputs": [],
   "source": []
  }
 ],
 "metadata": {
  "kernelspec": {
   "display_name": "Python 3 (ipykernel)",
   "language": "python",
   "name": "python3"
  },
  "language_info": {
   "codemirror_mode": {
    "name": "ipython",
    "version": 3
   },
   "file_extension": ".py",
   "mimetype": "text/x-python",
   "name": "python",
   "nbconvert_exporter": "python",
   "pygments_lexer": "ipython3",
   "version": "3.9.12"
  }
 },
 "nbformat": 4,
 "nbformat_minor": 5
}
