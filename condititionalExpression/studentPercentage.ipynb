{
 "cells": [
  {
   "cell_type": "code",
   "execution_count": 7,
   "id": "f39794fb",
   "metadata": {},
   "outputs": [
    {
     "name": "stdout",
     "output_type": "stream",
     "text": [
      "your marks out of 100\n",
      "enter first subject marks: 54\n",
      "enter second subject marks: 35\n",
      "enter third subject marks: 30\n",
      "you are failed due to less than 33% in one or more subject\n"
     ]
    }
   ],
   "source": [
    "print(\"your marks out of 100\")\n",
    "sub1 = int(input(\"enter first subject marks: \"))\n",
    "sub2 = int(input(\"enter second subject marks: \"))\n",
    "sub3 = int(input(\"enter third subject marks: \"))\n",
    "\n",
    "if(sub1<33 or sub2<33 or sub3<33):\n",
    "    print(\"you are failed due to less than 33% in one or more subject\")\n",
    "elif((sub1+sub2+sub3)/3) < 40:\n",
    "    print(\"you are failed due to your percentage average is less than 40%\")\n",
    "else:\n",
    "    print(\"congratulation! you are passed.\")"
   ]
  },
  {
   "cell_type": "code",
   "execution_count": null,
   "id": "149ee563",
   "metadata": {},
   "outputs": [],
   "source": []
  }
 ],
 "metadata": {
  "kernelspec": {
   "display_name": "Python 3 (ipykernel)",
   "language": "python",
   "name": "python3"
  },
  "language_info": {
   "codemirror_mode": {
    "name": "ipython",
    "version": 3
   },
   "file_extension": ".py",
   "mimetype": "text/x-python",
   "name": "python",
   "nbconvert_exporter": "python",
   "pygments_lexer": "ipython3",
   "version": "3.9.12"
  }
 },
 "nbformat": 4,
 "nbformat_minor": 5
}
