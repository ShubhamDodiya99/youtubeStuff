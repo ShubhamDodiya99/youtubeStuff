{
 "cells": [
  {
   "cell_type": "code",
   "execution_count": 17,
   "id": "83f8edd0",
   "metadata": {},
   "outputs": [
    {
     "name": "stdout",
     "output_type": "stream",
     "text": [
      "in a quick manner\n"
     ]
    }
   ],
   "source": [
    "myDict = {\n",
    "    \"fast\": \"in a quick manner\",\n",
    "    \"sachin\": \"a cricketer\",\n",
    "    \"marks\": [23, 35, 44, 56],\n",
    "    \"anotherDict\": {\"sachin\": \"player\"}\n",
    "}\n",
    "\n",
    "print(myDict[\"fast\"])"
   ]
  },
  {
   "cell_type": "code",
   "execution_count": 3,
   "id": "e24db6be",
   "metadata": {},
   "outputs": [
    {
     "name": "stdout",
     "output_type": "stream",
     "text": [
      "a cricketer\n"
     ]
    }
   ],
   "source": [
    "print(myDict[\"sachin\"])"
   ]
  },
  {
   "cell_type": "code",
   "execution_count": 5,
   "id": "da253539",
   "metadata": {},
   "outputs": [
    {
     "name": "stdout",
     "output_type": "stream",
     "text": [
      "[23, 35, 44, 56]\n"
     ]
    }
   ],
   "source": [
    "print(myDict[\"marks\"])"
   ]
  },
  {
   "cell_type": "code",
   "execution_count": 11,
   "id": "7f768099",
   "metadata": {},
   "outputs": [
    {
     "name": "stdout",
     "output_type": "stream",
     "text": [
      "{'sachin': 'player'}\n"
     ]
    }
   ],
   "source": [
    "print(myDict[\"anotherDict\"])    # nested dictionary"
   ]
  },
  {
   "cell_type": "code",
   "execution_count": 13,
   "id": "f739df19",
   "metadata": {},
   "outputs": [
    {
     "name": "stdout",
     "output_type": "stream",
     "text": [
      "player\n"
     ]
    }
   ],
   "source": [
    "print(myDict[\"anotherDict\"][\"sachin\"])"
   ]
  },
  {
   "cell_type": "code",
   "execution_count": 14,
   "id": "c1bce237",
   "metadata": {},
   "outputs": [
    {
     "name": "stdout",
     "output_type": "stream",
     "text": [
      "[34, 45, 56, 67]\n"
     ]
    }
   ],
   "source": [
    "myDict[\"marks\"] = [34,45,56,67]    #mutable\n",
    "print(myDict[\"marks\"])"
   ]
  },
  {
   "cell_type": "code",
   "execution_count": 15,
   "id": "ac2ae26b",
   "metadata": {},
   "outputs": [
    {
     "name": "stdout",
     "output_type": "stream",
     "text": [
      "{'fast': 'in a quick manner', 'sachin': 'a cricketer', 'marks': [34, 45, 56, 67], 'anotherDict': {'sachin': 'player'}}\n"
     ]
    }
   ],
   "source": [
    "print(myDict)"
   ]
  },
  {
   "cell_type": "code",
   "execution_count": null,
   "id": "35554e53",
   "metadata": {},
   "outputs": [],
   "source": []
  }
 ],
 "metadata": {
  "kernelspec": {
   "display_name": "Python 3 (ipykernel)",
   "language": "python",
   "name": "python3"
  },
  "language_info": {
   "codemirror_mode": {
    "name": "ipython",
    "version": 3
   },
   "file_extension": ".py",
   "mimetype": "text/x-python",
   "name": "python",
   "nbconvert_exporter": "python",
   "pygments_lexer": "ipython3",
   "version": "3.9.12"
  }
 },
 "nbformat": 4,
 "nbformat_minor": 5
}
