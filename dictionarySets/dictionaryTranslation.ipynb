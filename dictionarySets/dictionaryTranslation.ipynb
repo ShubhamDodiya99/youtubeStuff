{
 "cells": [
  {
   "cell_type": "code",
   "execution_count": 5,
   "id": "3ddb0dc0",
   "metadata": {},
   "outputs": [
    {
     "name": "stdout",
     "output_type": "stream",
     "text": [
      "option are--> dict_keys(['pankha', 'dabba', 'rasta'])\n",
      "enter the hindi word: dabba\n",
      "the meaning of your word is: box\n"
     ]
    }
   ],
   "source": [
    "myDict = {\n",
    "    \"pankha\": \"fan\",\n",
    "    \"dabba\": \"box\",\n",
    "    \"rasta\": \"road\"\n",
    "}\n",
    "print(\"option are-->\", myDict.keys())\n",
    "a = input(\"enter the hindi word: \")\n",
    "print(\"the meaning of your word is:\", myDict[a])"
   ]
  },
  {
   "cell_type": "code",
   "execution_count": 6,
   "id": "9dc773a7",
   "metadata": {},
   "outputs": [
    {
     "name": "stdout",
     "output_type": "stream",
     "text": [
      "option are--> dict_keys(['pankha', 'dabba', 'rasta'])\n",
      "enter the hindi word: raxa\n"
     ]
    },
    {
     "ename": "KeyError",
     "evalue": "'raxa'",
     "output_type": "error",
     "traceback": [
      "\u001b[1;31m---------------------------------------------------------------------------\u001b[0m",
      "\u001b[1;31mKeyError\u001b[0m                                  Traceback (most recent call last)",
      "Input \u001b[1;32mIn [6]\u001b[0m, in \u001b[0;36m<cell line: 8>\u001b[1;34m()\u001b[0m\n\u001b[0;32m      6\u001b[0m \u001b[38;5;28mprint\u001b[39m(\u001b[38;5;124m\"\u001b[39m\u001b[38;5;124moption are-->\u001b[39m\u001b[38;5;124m\"\u001b[39m, myDict\u001b[38;5;241m.\u001b[39mkeys())\n\u001b[0;32m      7\u001b[0m a \u001b[38;5;241m=\u001b[39m \u001b[38;5;28minput\u001b[39m(\u001b[38;5;124m\"\u001b[39m\u001b[38;5;124menter the hindi word: \u001b[39m\u001b[38;5;124m\"\u001b[39m)\n\u001b[1;32m----> 8\u001b[0m \u001b[38;5;28mprint\u001b[39m(\u001b[38;5;124m\"\u001b[39m\u001b[38;5;124mthe meaning of your word is:\u001b[39m\u001b[38;5;124m\"\u001b[39m, \u001b[43mmyDict\u001b[49m\u001b[43m[\u001b[49m\u001b[43ma\u001b[49m\u001b[43m]\u001b[49m)\n",
      "\u001b[1;31mKeyError\u001b[0m: 'raxa'"
     ]
    }
   ],
   "source": [
    "myDict = {\n",
    "    \"pankha\": \"fan\",\n",
    "    \"dabba\": \"box\",\n",
    "    \"rasta\": \"road\"\n",
    "}\n",
    "print(\"option are-->\", myDict.keys())\n",
    "a = input(\"enter the hindi word: \")\n",
    "print(\"the meaning of your word is:\", myDict[a])    # error if key is not available"
   ]
  },
  {
   "cell_type": "code",
   "execution_count": 7,
   "id": "d5b40d06",
   "metadata": {},
   "outputs": [
    {
     "name": "stdout",
     "output_type": "stream",
     "text": [
      "option are--> dict_keys(['pankha', 'dabba', 'rasta'])\n",
      "enter the hindi word: raxa\n",
      "the meaning of your word is: None\n"
     ]
    }
   ],
   "source": [
    "myDict = {\n",
    "    \"pankha\": \"fan\",\n",
    "    \"dabba\": \"box\",\n",
    "    \"rasta\": \"road\"\n",
    "}\n",
    "print(\"option are-->\", myDict.keys())\n",
    "a = input(\"enter the hindi word: \")\n",
    "print(\"the meaning of your word is:\", myDict.get(a))  # .get-->None if key is not availabe"
   ]
  },
  {
   "cell_type": "code",
   "execution_count": null,
   "id": "8ed6753a",
   "metadata": {},
   "outputs": [],
   "source": []
  }
 ],
 "metadata": {
  "kernelspec": {
   "display_name": "Python 3 (ipykernel)",
   "language": "python",
   "name": "python3"
  },
  "language_info": {
   "codemirror_mode": {
    "name": "ipython",
    "version": 3
   },
   "file_extension": ".py",
   "mimetype": "text/x-python",
   "name": "python",
   "nbconvert_exporter": "python",
   "pygments_lexer": "ipython3",
   "version": "3.9.12"
  }
 },
 "nbformat": 4,
 "nbformat_minor": 5
}
