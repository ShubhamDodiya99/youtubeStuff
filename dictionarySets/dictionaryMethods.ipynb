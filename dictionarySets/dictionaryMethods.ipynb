{
 "cells": [
  {
   "cell_type": "code",
   "execution_count": 3,
   "id": "31d133f5",
   "metadata": {},
   "outputs": [],
   "source": [
    "myDict = {\n",
    "    \"fast\": \"in a quick manner\",\n",
    "    \"sachin\": \"a cricketer\",\n",
    "    \"marks\": [23, 35, 44, 56],\n",
    "    \"anotherDict\": {\"sachin\": \"player\"},\n",
    "    1: 32\n",
    "}"
   ]
  },
  {
   "cell_type": "code",
   "execution_count": 4,
   "id": "64aacede",
   "metadata": {},
   "outputs": [
    {
     "name": "stdout",
     "output_type": "stream",
     "text": [
      "dict_keys(['fast', 'sachin', 'marks', 'anotherDict', 1])\n"
     ]
    }
   ],
   "source": [
    "print(myDict.keys())   # print the keys"
   ]
  },
  {
   "cell_type": "code",
   "execution_count": 6,
   "id": "d878d3f9",
   "metadata": {},
   "outputs": [
    {
     "name": "stdout",
     "output_type": "stream",
     "text": [
      "<class 'dict_keys'>\n"
     ]
    }
   ],
   "source": [
    "print(type(myDict.keys()))"
   ]
  },
  {
   "cell_type": "code",
   "execution_count": 7,
   "id": "3760095f",
   "metadata": {},
   "outputs": [
    {
     "name": "stdout",
     "output_type": "stream",
     "text": [
      "['fast', 'sachin', 'marks', 'anotherDict', 1]\n"
     ]
    }
   ],
   "source": [
    "print(list(myDict.keys()))"
   ]
  },
  {
   "cell_type": "code",
   "execution_count": 8,
   "id": "d252334c",
   "metadata": {},
   "outputs": [
    {
     "name": "stdout",
     "output_type": "stream",
     "text": [
      "dict_values(['in a quick manner', 'a cricketer', [23, 35, 44, 56], {'sachin': 'player'}, 32])\n"
     ]
    }
   ],
   "source": [
    "print(myDict.values())    # print the values"
   ]
  },
  {
   "cell_type": "code",
   "execution_count": 9,
   "id": "a583d237",
   "metadata": {},
   "outputs": [
    {
     "name": "stdout",
     "output_type": "stream",
     "text": [
      "dict_items([('fast', 'in a quick manner'), ('sachin', 'a cricketer'), ('marks', [23, 35, 44, 56]), ('anotherDict', {'sachin': 'player'}), (1, 32)])\n"
     ]
    }
   ],
   "source": [
    "print(myDict.items())   # print the (keys, values)"
   ]
  },
  {
   "cell_type": "code",
   "execution_count": 10,
   "id": "a3670908",
   "metadata": {},
   "outputs": [
    {
     "name": "stdout",
     "output_type": "stream",
     "text": [
      "<class 'dict_items'>\n"
     ]
    }
   ],
   "source": [
    "print(type(myDict.items()))   # kind of list type"
   ]
  },
  {
   "cell_type": "code",
   "execution_count": 14,
   "id": "5fe8948e",
   "metadata": {},
   "outputs": [
    {
     "name": "stdout",
     "output_type": "stream",
     "text": [
      "{'fast': 'in a quick manner', 'sachin': 'a dancer', 'marks': [23, 35, 44, 56], 'anotherDict': {'sachin': 'player'}, 1: 32, 'sam': 'friends'}\n"
     ]
    }
   ],
   "source": [
    "updateDict = {\n",
    "    \"sam\": \"friends\",\n",
    "    \"sachin\": \"a dancer\"\n",
    "}\n",
    "myDict.update(updateDict)     # updates existing and new dictionary\n",
    "print(myDict)"
   ]
  },
  {
   "cell_type": "code",
   "execution_count": 15,
   "id": "1e8596b9",
   "metadata": {},
   "outputs": [
    {
     "name": "stdout",
     "output_type": "stream",
     "text": [
      "a dancer\n",
      "a dancer\n"
     ]
    }
   ],
   "source": [
    "print(myDict[\"sachin\"])\n",
    "print(myDict.get(\"sachin\"))"
   ]
  },
  {
   "cell_type": "code",
   "execution_count": 16,
   "id": "608ce58e",
   "metadata": {},
   "outputs": [
    {
     "ename": "KeyError",
     "evalue": "'sachin2'",
     "output_type": "error",
     "traceback": [
      "\u001b[1;31m---------------------------------------------------------------------------\u001b[0m",
      "\u001b[1;31mKeyError\u001b[0m                                  Traceback (most recent call last)",
      "Input \u001b[1;32mIn [16]\u001b[0m, in \u001b[0;36m<cell line: 1>\u001b[1;34m()\u001b[0m\n\u001b[1;32m----> 1\u001b[0m \u001b[38;5;28mprint\u001b[39m(\u001b[43mmyDict\u001b[49m\u001b[43m[\u001b[49m\u001b[38;5;124;43m\"\u001b[39;49m\u001b[38;5;124;43msachin2\u001b[39;49m\u001b[38;5;124;43m\"\u001b[39;49m\u001b[43m]\u001b[49m)\n",
      "\u001b[1;31mKeyError\u001b[0m: 'sachin2'"
     ]
    }
   ],
   "source": [
    "print(myDict[\"sachin2\"])   # []-->it'll throw error if key is not present"
   ]
  },
  {
   "cell_type": "code",
   "execution_count": 17,
   "id": "62b8c8a0",
   "metadata": {},
   "outputs": [
    {
     "name": "stdout",
     "output_type": "stream",
     "text": [
      "None\n"
     ]
    }
   ],
   "source": [
    "print(myDict.get(\"sachin2\"))    # .get-->returns 'None' if key is not present"
   ]
  },
  {
   "cell_type": "code",
   "execution_count": null,
   "id": "c79637a0",
   "metadata": {},
   "outputs": [],
   "source": []
  }
 ],
 "metadata": {
  "kernelspec": {
   "display_name": "Python 3 (ipykernel)",
   "language": "python",
   "name": "python3"
  },
  "language_info": {
   "codemirror_mode": {
    "name": "ipython",
    "version": 3
   },
   "file_extension": ".py",
   "mimetype": "text/x-python",
   "name": "python",
   "nbconvert_exporter": "python",
   "pygments_lexer": "ipython3",
   "version": "3.9.12"
  }
 },
 "nbformat": 4,
 "nbformat_minor": 5
}
