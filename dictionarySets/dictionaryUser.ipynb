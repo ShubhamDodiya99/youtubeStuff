{
 "cells": [
  {
   "cell_type": "code",
   "execution_count": 2,
   "id": "e6db9b11",
   "metadata": {},
   "outputs": [
    {
     "name": "stdout",
     "output_type": "stream",
     "text": [
      "enter your favorite language shubham: python\n",
      "enter your favorite language sam: c\n",
      "enter your favorite language oggy: c++\n",
      "enter your favorite language jack: R\n",
      "{'shubham': 'python', 'sam': 'c', 'oggy': 'c++', 'jack': 'R'}\n"
     ]
    }
   ],
   "source": [
    "favLang = {}\n",
    "a = input(\"enter your favorite language shubham: \")\n",
    "b = input(\"enter your favorite language sam: \")\n",
    "c = input(\"enter your favorite language oggy: \")\n",
    "d = input(\"enter your favorite language jack: \")     # keys-->unique values\n",
    "favLang[\"shubham\"] = a\n",
    "favLang[\"sam\"] = b\n",
    "favLang[\"oggy\"] = c\n",
    "favLang[\"jack\"] = d\n",
    "print(favLang)"
   ]
  },
  {
   "cell_type": "code",
   "execution_count": 1,
   "id": "1ddd3ce2",
   "metadata": {},
   "outputs": [
    {
     "name": "stdout",
     "output_type": "stream",
     "text": [
      "enter your favorite language jack: python\n",
      "enter your favorite language sam: c\n",
      "enter your favorite language oggy: c++\n",
      "enter your favorite language jack: R\n",
      "{'jack': 'R', 'sam': 'c', 'oggy': 'c++'}\n"
     ]
    }
   ],
   "source": [
    "favLang = {}\n",
    "a = input(\"enter your favorite language jack: \")\n",
    "b = input(\"enter your favorite language sam: \")\n",
    "c = input(\"enter your favorite language oggy: \")\n",
    "d = input(\"enter your favorite language jack: \")      #if keys are same in dictionary\n",
    "favLang[\"jack\"] = a\n",
    "favLang[\"sam\"] = b\n",
    "favLang[\"oggy\"] = c\n",
    "favLang[\"jack\"] = d\n",
    "print(favLang)"
   ]
  },
  {
   "cell_type": "code",
   "execution_count": 2,
   "id": "94b58b65",
   "metadata": {},
   "outputs": [
    {
     "name": "stdout",
     "output_type": "stream",
     "text": [
      "enter your favorite language shubham: python\n",
      "enter your favorite language sam: python\n",
      "enter your favorite language oggy: c\n",
      "enter your favorite language jack: c++\n",
      "{'shubham': 'python', 'sam': 'python', 'oggy': 'c', 'jack': 'c++'}\n"
     ]
    }
   ],
   "source": [
    "favLang = {}\n",
    "a = input(\"enter your favorite language shubham: \")\n",
    "b = input(\"enter your favorite language sam: \")\n",
    "c = input(\"enter your favorite language oggy: \")\n",
    "d = input(\"enter your favorite language jack: \")\n",
    "favLang[\"shubham\"] = a\n",
    "favLang[\"sam\"] = b\n",
    "favLang[\"oggy\"] = c\n",
    "favLang[\"jack\"] = d\n",
    "print(favLang)       # if values are same in dictionary"
   ]
  },
  {
   "cell_type": "code",
   "execution_count": null,
   "id": "133601cb",
   "metadata": {},
   "outputs": [],
   "source": []
  }
 ],
 "metadata": {
  "kernelspec": {
   "display_name": "Python 3 (ipykernel)",
   "language": "python",
   "name": "python3"
  },
  "language_info": {
   "codemirror_mode": {
    "name": "ipython",
    "version": 3
   },
   "file_extension": ".py",
   "mimetype": "text/x-python",
   "name": "python",
   "nbconvert_exporter": "python",
   "pygments_lexer": "ipython3",
   "version": "3.9.12"
  }
 },
 "nbformat": 4,
 "nbformat_minor": 5
}
