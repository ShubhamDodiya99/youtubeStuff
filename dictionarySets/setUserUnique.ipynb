{
 "cells": [
  {
   "cell_type": "code",
   "execution_count": null,
   "id": "a3fcd2e1",
   "metadata": {},
   "outputs": [],
   "source": [
    "num1 = int(input(\"enter number 1:\"))\n",
    "num2 = int(input(\"enter number 2:\"))\n",
    "num3 = int(input(\"enter number 3:\"))\n",
    "num4 = int(input(\"enter number 4:\"))\n",
    "num5 = int(input(\"enter number 5:\"))\n",
    "num6 = int(input(\"enter number 6:\"))\n",
    "num7 = int(input(\"enter number 7:\"))\n",
    "num8 = int(input(\"enter number 8:\"))\n",
    "s = {num1, num2, num3, num4, num5, num6, num7, num8}\n",
    "print(s)"
   ]
  },
  {
   "cell_type": "code",
   "execution_count": 1,
   "id": "72f45de4",
   "metadata": {},
   "outputs": [
    {
     "name": "stdout",
     "output_type": "stream",
     "text": [
      "enter number 1:44\n",
      "enter number 2:32\n",
      "enter number 3:55\n",
      "enter number 4:65\n",
      "enter number 5:23\n",
      "enter number 6:55\n",
      "enter number 7:90\n",
      "enter number 8:87\n",
      "{32, 65, 44, 55, 87, 23, 90}\n"
     ]
    }
   ],
   "source": [
    "num1 = int(input(\"enter number 1:\"))\n",
    "num2 = int(input(\"enter number 2:\"))\n",
    "num3 = int(input(\"enter number 3:\"))\n",
    "num4 = int(input(\"enter number 4:\"))\n",
    "num5 = int(input(\"enter number 5:\"))\n",
    "num6 = int(input(\"enter number 6:\"))\n",
    "num7 = int(input(\"enter number 7:\"))\n",
    "num8 = int(input(\"enter number 8:\"))\n",
    "s = {num1, num2, num3, num4, num5, num6, num7, num8}\n",
    "print(s)"
   ]
  },
  {
   "cell_type": "code",
   "execution_count": 2,
   "id": "eebe5a10",
   "metadata": {},
   "outputs": [
    {
     "name": "stdout",
     "output_type": "stream",
     "text": [
      "enter number 1:1\n",
      "enter number 2:2\n",
      "enter number 3:3\n",
      "enter number 4:4\n",
      "enter number 5:4\n",
      "enter number 6:3\n",
      "enter number 7:6\n",
      "enter number 8:1\n",
      "{1, 2, 3, 4, 6}\n"
     ]
    }
   ],
   "source": [
    "num1 = int(input(\"enter number 1:\"))\n",
    "num2 = int(input(\"enter number 2:\"))\n",
    "num3 = int(input(\"enter number 3:\"))\n",
    "num4 = int(input(\"enter number 4:\"))\n",
    "num5 = int(input(\"enter number 5:\"))\n",
    "num6 = int(input(\"enter number 6:\"))\n",
    "num7 = int(input(\"enter number 7:\"))\n",
    "num8 = int(input(\"enter number 8:\"))\n",
    "s = {num1, num2, num3, num4, num5, num6, num7, num8}\n",
    "print(s)"
   ]
  },
  {
   "cell_type": "code",
   "execution_count": null,
   "id": "85d9ff91",
   "metadata": {},
   "outputs": [],
   "source": []
  }
 ],
 "metadata": {
  "kernelspec": {
   "display_name": "Python 3 (ipykernel)",
   "language": "python",
   "name": "python3"
  },
  "language_info": {
   "codemirror_mode": {
    "name": "ipython",
    "version": 3
   },
   "file_extension": ".py",
   "mimetype": "text/x-python",
   "name": "python",
   "nbconvert_exporter": "python",
   "pygments_lexer": "ipython3",
   "version": "3.9.12"
  }
 },
 "nbformat": 4,
 "nbformat_minor": 5
}
