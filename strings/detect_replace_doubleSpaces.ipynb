{
 "cells": [
  {
   "cell_type": "code",
   "execution_count": 1,
   "id": "be604f5e",
   "metadata": {},
   "outputs": [
    {
     "name": "stdout",
     "output_type": "stream",
     "text": [
      "30\n"
     ]
    }
   ],
   "source": [
    "st = \"This is the string with double    spaces\"\n",
    "doubleSpaces = st.find(\"  \")\n",
    "print(doubleSpaces)"
   ]
  },
  {
   "cell_type": "code",
   "execution_count": 3,
   "id": "1db4841d",
   "metadata": {},
   "outputs": [
    {
     "name": "stdout",
     "output_type": "stream",
     "text": [
      "-1\n"
     ]
    }
   ],
   "source": [
    "st = \"This is the string with double spaces\"\n",
    "doubleSpaces = st.find(\"  \")\n",
    "print(doubleSpaces)      # -1 is for no result found"
   ]
  },
  {
   "cell_type": "code",
   "execution_count": 4,
   "id": "948bbe88",
   "metadata": {},
   "outputs": [
    {
     "name": "stdout",
     "output_type": "stream",
     "text": [
      "This is the string with double spaces\n"
     ]
    }
   ],
   "source": [
    "st = \"This is the string with double  spaces\"\n",
    "st = st.replace(\"  \", \" \")\n",
    "print(st)"
   ]
  },
  {
   "cell_type": "code",
   "execution_count": 5,
   "id": "bd7b1188",
   "metadata": {},
   "outputs": [
    {
     "name": "stdout",
     "output_type": "stream",
     "text": [
      "This is the string with double  spaces\n"
     ]
    }
   ],
   "source": [
    "st = \"This is the string with double    spaces\"\n",
    "st = st.replace(\"  \",\" \")\n",
    "print(st)"
   ]
  },
  {
   "cell_type": "code",
   "execution_count": null,
   "id": "8870b366",
   "metadata": {},
   "outputs": [],
   "source": []
  }
 ],
 "metadata": {
  "kernelspec": {
   "display_name": "Python 3 (ipykernel)",
   "language": "python",
   "name": "python3"
  },
  "language_info": {
   "codemirror_mode": {
    "name": "ipython",
    "version": 3
   },
   "file_extension": ".py",
   "mimetype": "text/x-python",
   "name": "python",
   "nbconvert_exporter": "python",
   "pygments_lexer": "ipython3",
   "version": "3.9.12"
  }
 },
 "nbformat": 4,
 "nbformat_minor": 5
}
