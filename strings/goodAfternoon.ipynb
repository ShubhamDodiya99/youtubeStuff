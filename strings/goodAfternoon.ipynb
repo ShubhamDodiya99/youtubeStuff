{
 "cells": [
  {
   "cell_type": "code",
   "execution_count": 2,
   "id": "616ca1da",
   "metadata": {},
   "outputs": [
    {
     "name": "stdout",
     "output_type": "stream",
     "text": [
      "Enter your name:shubham\n",
      "Good Afternoon, shubham\n"
     ]
    }
   ],
   "source": [
    "a = \"Good Afternoon, \"\n",
    "b = input(\"Enter your name:\")\n",
    "c = a+b\n",
    "print(c)"
   ]
  },
  {
   "cell_type": "code",
   "execution_count": 3,
   "id": "68b6eece",
   "metadata": {},
   "outputs": [
    {
     "name": "stdout",
     "output_type": "stream",
     "text": [
      "Enter your name:shubham\n",
      "Good Afternoon, shubham\n"
     ]
    }
   ],
   "source": [
    "name = input(\"Enter your name:\")\n",
    "print(\"Good Afternoon, \"+name)"
   ]
  },
  {
   "cell_type": "code",
   "execution_count": 4,
   "id": "4e54c8df",
   "metadata": {},
   "outputs": [
    {
     "name": "stdout",
     "output_type": "stream",
     "text": [
      "Enter your name:\n",
      "Sam\n",
      "Good Afternoon, Sam\n"
     ]
    }
   ],
   "source": [
    "name = input(\"Enter your name:\\n\")\n",
    "print(\"Good Afternoon, \"+name)"
   ]
  },
  {
   "cell_type": "code",
   "execution_count": null,
   "id": "0925757b",
   "metadata": {},
   "outputs": [],
   "source": []
  }
 ],
 "metadata": {
  "kernelspec": {
   "display_name": "Python 3 (ipykernel)",
   "language": "python",
   "name": "python3"
  },
  "language_info": {
   "codemirror_mode": {
    "name": "ipython",
    "version": 3
   },
   "file_extension": ".py",
   "mimetype": "text/x-python",
   "name": "python",
   "nbconvert_exporter": "python",
   "pygments_lexer": "ipython3",
   "version": "3.9.12"
  }
 },
 "nbformat": 4,
 "nbformat_minor": 5
}
