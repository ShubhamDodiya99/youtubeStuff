{
 "cells": [
  {
   "cell_type": "code",
   "execution_count": 3,
   "id": "94b87f6f",
   "metadata": {},
   "outputs": [
    {
     "name": "stdout",
     "output_type": "stream",
     "text": [
      "enter namesam\n",
      "enter date24 july\n",
      "Dear + name,\n",
      "      You are selected!\n",
      "      + date\n"
     ]
    }
   ],
   "source": [
    "name = input(\"enter name\")\n",
    "date = input(\"enter date\")\n",
    "print('''Dear + name,\n",
    "      You are selected!\n",
    "      + date''')"
   ]
  },
  {
   "cell_type": "code",
   "execution_count": 7,
   "id": "8df6d1c1",
   "metadata": {},
   "outputs": [
    {
     "name": "stdout",
     "output_type": "stream",
     "text": [
      "Enter your name: Shubham\n",
      "Enter date: 24th July\n",
      "Dear Shubham,\n",
      "Greetings from Coding Mafia House.I am happy to tell you about your selection.\n",
      "You are selected!\n",
      "Have a great day ahead!\n",
      "Thanks and regards,\n",
      "Sam\n",
      "\n",
      "Date:24th July\n",
      "\n"
     ]
    }
   ],
   "source": [
    "letter = '''Dear <NAME>,\n",
    "Greetings from Coding Mafia House.I am happy to tell you about your selection.\n",
    "You are selected!\n",
    "Have a great day ahead!\n",
    "Thanks and regards,\n",
    "Sam\n",
    "\n",
    "Date:<DATE>\n",
    "'''\n",
    "name = input(\"Enter your name: \")\n",
    "date = input(\"Enter date: \")\n",
    "letter = letter.replace(\"<NAME>\", name)\n",
    "letter = letter.replace(\"<DATE>\", date)\n",
    "print(letter)"
   ]
  },
  {
   "cell_type": "code",
   "execution_count": null,
   "id": "a7122796",
   "metadata": {},
   "outputs": [],
   "source": []
  }
 ],
 "metadata": {
  "kernelspec": {
   "display_name": "Python 3 (ipykernel)",
   "language": "python",
   "name": "python3"
  },
  "language_info": {
   "codemirror_mode": {
    "name": "ipython",
    "version": 3
   },
   "file_extension": ".py",
   "mimetype": "text/x-python",
   "name": "python",
   "nbconvert_exporter": "python",
   "pygments_lexer": "ipython3",
   "version": "3.9.12"
  }
 },
 "nbformat": 4,
 "nbformat_minor": 5
}
