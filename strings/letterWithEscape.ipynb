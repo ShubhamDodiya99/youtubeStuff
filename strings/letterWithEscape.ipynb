{
 "cells": [
  {
   "cell_type": "code",
   "execution_count": 1,
   "id": "fb0a3f25",
   "metadata": {},
   "outputs": [
    {
     "name": "stdout",
     "output_type": "stream",
     "text": [
      "Dear Sam, This python course is nice! Thanks!\n"
     ]
    }
   ],
   "source": [
    "letter = \"Dear Sam, This python course is nice! Thanks!\"\n",
    "print(letter)"
   ]
  },
  {
   "cell_type": "code",
   "execution_count": 2,
   "id": "b1a0c228",
   "metadata": {},
   "outputs": [
    {
     "name": "stdout",
     "output_type": "stream",
     "text": [
      "Dear Sam, \n",
      "\tThis python course is nice! \n",
      "Thanks!\n"
     ]
    }
   ],
   "source": [
    "formated_letter = \"Dear Sam, \\n\\tThis python course is nice! \\nThanks!\"\n",
    "print(formated_letter)"
   ]
  },
  {
   "cell_type": "code",
   "execution_count": null,
   "id": "cf93840c",
   "metadata": {},
   "outputs": [],
   "source": []
  }
 ],
 "metadata": {
  "kernelspec": {
   "display_name": "Python 3 (ipykernel)",
   "language": "python",
   "name": "python3"
  },
  "language_info": {
   "codemirror_mode": {
    "name": "ipython",
    "version": 3
   },
   "file_extension": ".py",
   "mimetype": "text/x-python",
   "name": "python",
   "nbconvert_exporter": "python",
   "pygments_lexer": "ipython3",
   "version": "3.9.12"
  }
 },
 "nbformat": 4,
 "nbformat_minor": 5
}
