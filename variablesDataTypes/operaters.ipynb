{
 "cells": [
  {
   "cell_type": "code",
   "execution_count": 7,
   "id": "c589b802",
   "metadata": {},
   "outputs": [
    {
     "name": "stdout",
     "output_type": "stream",
     "text": [
      "value of x-y is: 3\n",
      "value of x+y is: 5\n",
      "value of x*y is: 4\n",
      "value of x/y is: 4.0\n"
     ]
    }
   ],
   "source": [
    "x = 4\n",
    "y = 1\n",
    "print(\"value of x-y is:\", x-y)\n",
    "print(\"value of x+y is:\", x+y)\n",
    "print(\"value of x*y is:\", x*y)\n",
    "print(\"value of x/y is:\", x/y)"
   ]
  },
  {
   "cell_type": "code",
   "execution_count": 8,
   "id": "81cf79b0",
   "metadata": {},
   "outputs": [
    {
     "name": "stdout",
     "output_type": "stream",
     "text": [
      "True\n",
      "False\n",
      "True\n",
      "False\n",
      "False\n",
      "True\n"
     ]
    }
   ],
   "source": [
    "print(x>y)\n",
    "print(x<y)\n",
    "print(x>=y)\n",
    "print(x<=y)\n",
    "print(x==y)\n",
    "print(x!=y)"
   ]
  },
  {
   "cell_type": "code",
   "execution_count": 9,
   "id": "8560780b",
   "metadata": {},
   "outputs": [
    {
     "name": "stdout",
     "output_type": "stream",
     "text": [
      "value of aa and bb is: False\n",
      "value of aa or bb is: True\n",
      "value of a or b is: False\n",
      "value of a or b is: True\n"
     ]
    }
   ],
   "source": [
    "aa = True\n",
    "bb = False\n",
    "print(\"value of aa and bb is:\", aa and bb)\n",
    "print(\"value of aa or bb is:\", aa or bb)\n",
    "print(\"value of a or b is:\", not aa)\n",
    "print(\"value of a or b is:\", not bb)"
   ]
  },
  {
   "cell_type": "code",
   "execution_count": null,
   "id": "30c4978c",
   "metadata": {},
   "outputs": [],
   "source": []
  },
  {
   "cell_type": "code",
   "execution_count": null,
   "id": "4865c442",
   "metadata": {},
   "outputs": [],
   "source": []
  }
 ],
 "metadata": {
  "kernelspec": {
   "display_name": "Python 3 (ipykernel)",
   "language": "python",
   "name": "python3"
  },
  "language_info": {
   "codemirror_mode": {
    "name": "ipython",
    "version": 3
   },
   "file_extension": ".py",
   "mimetype": "text/x-python",
   "name": "python",
   "nbconvert_exporter": "python",
   "pygments_lexer": "ipython3",
   "version": "3.9.13"
  }
 },
 "nbformat": 4,
 "nbformat_minor": 5
}
