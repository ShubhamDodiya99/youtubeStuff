{
 "cells": [
  {
   "cell_type": "code",
   "execution_count": 2,
   "id": "d10cebaf",
   "metadata": {},
   "outputs": [
    {
     "data": {
      "text/plain": [
       "625"
      ]
     },
     "execution_count": 2,
     "metadata": {},
     "output_type": "execute_result"
    }
   ],
   "source": [
    "a = 25\n",
    "a*a"
   ]
  },
  {
   "cell_type": "code",
   "execution_count": 4,
   "id": "8c481baf",
   "metadata": {},
   "outputs": [
    {
     "name": "stdout",
     "output_type": "stream",
     "text": [
      "enter any number: 31\n",
      "square of a given number is: 961\n"
     ]
    }
   ],
   "source": [
    "a = int(input(\"enter any number: \"))\n",
    "print(\"square of a given number is:\", a*a)   # multiplication"
   ]
  },
  {
   "cell_type": "code",
   "execution_count": 6,
   "id": "815702fc",
   "metadata": {},
   "outputs": [
    {
     "name": "stdout",
     "output_type": "stream",
     "text": [
      "enter any number: 19\n",
      "square of a given number is: 361\n"
     ]
    }
   ],
   "source": [
    "b = int(input(\"enter any number: \"))\n",
    "print(\"square of a given number is:\", b**2)   # exponenet "
   ]
  },
  {
   "cell_type": "code",
   "execution_count": null,
   "id": "20d81d80",
   "metadata": {},
   "outputs": [],
   "source": []
  }
 ],
 "metadata": {
  "kernelspec": {
   "display_name": "Python 3 (ipykernel)",
   "language": "python",
   "name": "python3"
  },
  "language_info": {
   "codemirror_mode": {
    "name": "ipython",
    "version": 3
   },
   "file_extension": ".py",
   "mimetype": "text/x-python",
   "name": "python",
   "nbconvert_exporter": "python",
   "pygments_lexer": "ipython3",
   "version": "3.9.12"
  }
 },
 "nbformat": 4,
 "nbformat_minor": 5
}
