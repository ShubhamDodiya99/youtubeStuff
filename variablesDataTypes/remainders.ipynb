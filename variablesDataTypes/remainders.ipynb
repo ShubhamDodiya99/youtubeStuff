{
 "cells": [
  {
   "cell_type": "code",
   "execution_count": 1,
   "id": "a0e9fe7d",
   "metadata": {},
   "outputs": [
    {
     "data": {
      "text/plain": [
       "0"
      ]
     },
     "execution_count": 1,
     "metadata": {},
     "output_type": "execute_result"
    }
   ],
   "source": [
    "a = 14\n",
    "b = 2\n",
    "a%b"
   ]
  },
  {
   "cell_type": "code",
   "execution_count": 4,
   "id": "938ab2e8",
   "metadata": {},
   "outputs": [
    {
     "name": "stdout",
     "output_type": "stream",
     "text": [
      "remainders when a is devided by b is: 0\n"
     ]
    }
   ],
   "source": [
    "print(\"remainders when a is devided by b is:\", a%b)"
   ]
  },
  {
   "cell_type": "code",
   "execution_count": 5,
   "id": "f6df0f51",
   "metadata": {},
   "outputs": [
    {
     "name": "stdout",
     "output_type": "stream",
     "text": [
      "remainders when a is devided by c is: 2\n"
     ]
    }
   ],
   "source": [
    "c = 4\n",
    "print(\"remainders when a is devided by c is:\", a%c)"
   ]
  },
  {
   "cell_type": "code",
   "execution_count": 6,
   "id": "e055b1eb",
   "metadata": {},
   "outputs": [
    {
     "name": "stdout",
     "output_type": "stream",
     "text": [
      "enter first number: 14\n",
      "enter second number: 3\n",
      "remainder for given number is: 2\n"
     ]
    }
   ],
   "source": [
    "a = int(input(\"enter first number: \"))\n",
    "b = int(input(\"enter second number: \"))\n",
    "print(\"remainder for given number is:\", a % b)"
   ]
  }
 ],
 "metadata": {
  "kernelspec": {
   "display_name": "Python 3 (ipykernel)",
   "language": "python",
   "name": "python3"
  },
  "language_info": {
   "codemirror_mode": {
    "name": "ipython",
    "version": 3
   },
   "file_extension": ".py",
   "mimetype": "text/x-python",
   "name": "python",
   "nbconvert_exporter": "python",
   "pygments_lexer": "ipython3",
   "version": "3.9.12"
  }
 },
 "nbformat": 4,
 "nbformat_minor": 5
}
