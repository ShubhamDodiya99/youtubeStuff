{
 "cells": [
  {
   "cell_type": "code",
   "execution_count": 8,
   "id": "58094895",
   "metadata": {},
   "outputs": [
    {
     "name": "stdout",
     "output_type": "stream",
     "text": [
      "enter first value: 34\n",
      "enter second value: 44\n",
      "average of first and second value is: 39.0\n"
     ]
    }
   ],
   "source": [
    "a = int(input(\"enter first value: \"))\n",
    "b = int(input(\"enter second value: \"))\n",
    "print(\"average of first and second value is:\", (a+b)/2)"
   ]
  },
  {
   "cell_type": "code",
   "execution_count": null,
   "id": "91d5d6b0",
   "metadata": {},
   "outputs": [],
   "source": []
  }
 ],
 "metadata": {
  "kernelspec": {
   "display_name": "Python 3 (ipykernel)",
   "language": "python",
   "name": "python3"
  },
  "language_info": {
   "codemirror_mode": {
    "name": "ipython",
    "version": 3
   },
   "file_extension": ".py",
   "mimetype": "text/x-python",
   "name": "python",
   "nbconvert_exporter": "python",
   "pygments_lexer": "ipython3",
   "version": "3.9.12"
  }
 },
 "nbformat": 4,
 "nbformat_minor": 5
}
